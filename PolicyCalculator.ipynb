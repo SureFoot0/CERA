{
 "cells": [
  {
   "cell_type": "code",
   "execution_count": 1,
   "id": "26c48eb9-ed53-42da-8160-3973c4c180c0",
   "metadata": {},
   "outputs": [],
   "source": [
    "import pandas as pd\n",
    "import random"
   ]
  },
  {
   "cell_type": "code",
   "execution_count": 2,
   "id": "d3c18498-ea32-4380-9ea1-28474f0388d2",
   "metadata": {},
   "outputs": [
    {
     "ename": "FileNotFoundError",
     "evalue": "[Errno 2] No such file or directory: 'Policy_data.csv'",
     "output_type": "error",
     "traceback": [
      "\u001b[0;31m---------------------------------------------------------------------------\u001b[0m",
      "\u001b[0;31mFileNotFoundError\u001b[0m                         Traceback (most recent call last)",
      "Cell \u001b[0;32mIn[2], line 1\u001b[0m\n\u001b[0;32m----> 1\u001b[0m df \u001b[38;5;241m=\u001b[39m \u001b[43mpd\u001b[49m\u001b[38;5;241;43m.\u001b[39;49m\u001b[43mread_csv\u001b[49m\u001b[43m(\u001b[49m\u001b[38;5;124;43m\"\u001b[39;49m\u001b[38;5;124;43mPolicy_data.csv\u001b[39;49m\u001b[38;5;124;43m\"\u001b[39;49m\u001b[43m)\u001b[49m\n\u001b[1;32m      2\u001b[0m df\u001b[38;5;241m.\u001b[39mhead()\n",
      "File \u001b[0;32m/Library/Frameworks/Python.framework/Versions/3.12/lib/python3.12/site-packages/pandas/io/parsers/readers.py:1026\u001b[0m, in \u001b[0;36mread_csv\u001b[0;34m(filepath_or_buffer, sep, delimiter, header, names, index_col, usecols, dtype, engine, converters, true_values, false_values, skipinitialspace, skiprows, skipfooter, nrows, na_values, keep_default_na, na_filter, verbose, skip_blank_lines, parse_dates, infer_datetime_format, keep_date_col, date_parser, date_format, dayfirst, cache_dates, iterator, chunksize, compression, thousands, decimal, lineterminator, quotechar, quoting, doublequote, escapechar, comment, encoding, encoding_errors, dialect, on_bad_lines, delim_whitespace, low_memory, memory_map, float_precision, storage_options, dtype_backend)\u001b[0m\n\u001b[1;32m   1013\u001b[0m kwds_defaults \u001b[38;5;241m=\u001b[39m _refine_defaults_read(\n\u001b[1;32m   1014\u001b[0m     dialect,\n\u001b[1;32m   1015\u001b[0m     delimiter,\n\u001b[0;32m   (...)\u001b[0m\n\u001b[1;32m   1022\u001b[0m     dtype_backend\u001b[38;5;241m=\u001b[39mdtype_backend,\n\u001b[1;32m   1023\u001b[0m )\n\u001b[1;32m   1024\u001b[0m kwds\u001b[38;5;241m.\u001b[39mupdate(kwds_defaults)\n\u001b[0;32m-> 1026\u001b[0m \u001b[38;5;28;01mreturn\u001b[39;00m \u001b[43m_read\u001b[49m\u001b[43m(\u001b[49m\u001b[43mfilepath_or_buffer\u001b[49m\u001b[43m,\u001b[49m\u001b[43m \u001b[49m\u001b[43mkwds\u001b[49m\u001b[43m)\u001b[49m\n",
      "File \u001b[0;32m/Library/Frameworks/Python.framework/Versions/3.12/lib/python3.12/site-packages/pandas/io/parsers/readers.py:620\u001b[0m, in \u001b[0;36m_read\u001b[0;34m(filepath_or_buffer, kwds)\u001b[0m\n\u001b[1;32m    617\u001b[0m _validate_names(kwds\u001b[38;5;241m.\u001b[39mget(\u001b[38;5;124m\"\u001b[39m\u001b[38;5;124mnames\u001b[39m\u001b[38;5;124m\"\u001b[39m, \u001b[38;5;28;01mNone\u001b[39;00m))\n\u001b[1;32m    619\u001b[0m \u001b[38;5;66;03m# Create the parser.\u001b[39;00m\n\u001b[0;32m--> 620\u001b[0m parser \u001b[38;5;241m=\u001b[39m \u001b[43mTextFileReader\u001b[49m\u001b[43m(\u001b[49m\u001b[43mfilepath_or_buffer\u001b[49m\u001b[43m,\u001b[49m\u001b[43m \u001b[49m\u001b[38;5;241;43m*\u001b[39;49m\u001b[38;5;241;43m*\u001b[39;49m\u001b[43mkwds\u001b[49m\u001b[43m)\u001b[49m\n\u001b[1;32m    622\u001b[0m \u001b[38;5;28;01mif\u001b[39;00m chunksize \u001b[38;5;129;01mor\u001b[39;00m iterator:\n\u001b[1;32m    623\u001b[0m     \u001b[38;5;28;01mreturn\u001b[39;00m parser\n",
      "File \u001b[0;32m/Library/Frameworks/Python.framework/Versions/3.12/lib/python3.12/site-packages/pandas/io/parsers/readers.py:1620\u001b[0m, in \u001b[0;36mTextFileReader.__init__\u001b[0;34m(self, f, engine, **kwds)\u001b[0m\n\u001b[1;32m   1617\u001b[0m     \u001b[38;5;28mself\u001b[39m\u001b[38;5;241m.\u001b[39moptions[\u001b[38;5;124m\"\u001b[39m\u001b[38;5;124mhas_index_names\u001b[39m\u001b[38;5;124m\"\u001b[39m] \u001b[38;5;241m=\u001b[39m kwds[\u001b[38;5;124m\"\u001b[39m\u001b[38;5;124mhas_index_names\u001b[39m\u001b[38;5;124m\"\u001b[39m]\n\u001b[1;32m   1619\u001b[0m \u001b[38;5;28mself\u001b[39m\u001b[38;5;241m.\u001b[39mhandles: IOHandles \u001b[38;5;241m|\u001b[39m \u001b[38;5;28;01mNone\u001b[39;00m \u001b[38;5;241m=\u001b[39m \u001b[38;5;28;01mNone\u001b[39;00m\n\u001b[0;32m-> 1620\u001b[0m \u001b[38;5;28mself\u001b[39m\u001b[38;5;241m.\u001b[39m_engine \u001b[38;5;241m=\u001b[39m \u001b[38;5;28;43mself\u001b[39;49m\u001b[38;5;241;43m.\u001b[39;49m\u001b[43m_make_engine\u001b[49m\u001b[43m(\u001b[49m\u001b[43mf\u001b[49m\u001b[43m,\u001b[49m\u001b[43m \u001b[49m\u001b[38;5;28;43mself\u001b[39;49m\u001b[38;5;241;43m.\u001b[39;49m\u001b[43mengine\u001b[49m\u001b[43m)\u001b[49m\n",
      "File \u001b[0;32m/Library/Frameworks/Python.framework/Versions/3.12/lib/python3.12/site-packages/pandas/io/parsers/readers.py:1880\u001b[0m, in \u001b[0;36mTextFileReader._make_engine\u001b[0;34m(self, f, engine)\u001b[0m\n\u001b[1;32m   1878\u001b[0m     \u001b[38;5;28;01mif\u001b[39;00m \u001b[38;5;124m\"\u001b[39m\u001b[38;5;124mb\u001b[39m\u001b[38;5;124m\"\u001b[39m \u001b[38;5;129;01mnot\u001b[39;00m \u001b[38;5;129;01min\u001b[39;00m mode:\n\u001b[1;32m   1879\u001b[0m         mode \u001b[38;5;241m+\u001b[39m\u001b[38;5;241m=\u001b[39m \u001b[38;5;124m\"\u001b[39m\u001b[38;5;124mb\u001b[39m\u001b[38;5;124m\"\u001b[39m\n\u001b[0;32m-> 1880\u001b[0m \u001b[38;5;28mself\u001b[39m\u001b[38;5;241m.\u001b[39mhandles \u001b[38;5;241m=\u001b[39m \u001b[43mget_handle\u001b[49m\u001b[43m(\u001b[49m\n\u001b[1;32m   1881\u001b[0m \u001b[43m    \u001b[49m\u001b[43mf\u001b[49m\u001b[43m,\u001b[49m\n\u001b[1;32m   1882\u001b[0m \u001b[43m    \u001b[49m\u001b[43mmode\u001b[49m\u001b[43m,\u001b[49m\n\u001b[1;32m   1883\u001b[0m \u001b[43m    \u001b[49m\u001b[43mencoding\u001b[49m\u001b[38;5;241;43m=\u001b[39;49m\u001b[38;5;28;43mself\u001b[39;49m\u001b[38;5;241;43m.\u001b[39;49m\u001b[43moptions\u001b[49m\u001b[38;5;241;43m.\u001b[39;49m\u001b[43mget\u001b[49m\u001b[43m(\u001b[49m\u001b[38;5;124;43m\"\u001b[39;49m\u001b[38;5;124;43mencoding\u001b[39;49m\u001b[38;5;124;43m\"\u001b[39;49m\u001b[43m,\u001b[49m\u001b[43m \u001b[49m\u001b[38;5;28;43;01mNone\u001b[39;49;00m\u001b[43m)\u001b[49m\u001b[43m,\u001b[49m\n\u001b[1;32m   1884\u001b[0m \u001b[43m    \u001b[49m\u001b[43mcompression\u001b[49m\u001b[38;5;241;43m=\u001b[39;49m\u001b[38;5;28;43mself\u001b[39;49m\u001b[38;5;241;43m.\u001b[39;49m\u001b[43moptions\u001b[49m\u001b[38;5;241;43m.\u001b[39;49m\u001b[43mget\u001b[49m\u001b[43m(\u001b[49m\u001b[38;5;124;43m\"\u001b[39;49m\u001b[38;5;124;43mcompression\u001b[39;49m\u001b[38;5;124;43m\"\u001b[39;49m\u001b[43m,\u001b[49m\u001b[43m \u001b[49m\u001b[38;5;28;43;01mNone\u001b[39;49;00m\u001b[43m)\u001b[49m\u001b[43m,\u001b[49m\n\u001b[1;32m   1885\u001b[0m \u001b[43m    \u001b[49m\u001b[43mmemory_map\u001b[49m\u001b[38;5;241;43m=\u001b[39;49m\u001b[38;5;28;43mself\u001b[39;49m\u001b[38;5;241;43m.\u001b[39;49m\u001b[43moptions\u001b[49m\u001b[38;5;241;43m.\u001b[39;49m\u001b[43mget\u001b[49m\u001b[43m(\u001b[49m\u001b[38;5;124;43m\"\u001b[39;49m\u001b[38;5;124;43mmemory_map\u001b[39;49m\u001b[38;5;124;43m\"\u001b[39;49m\u001b[43m,\u001b[49m\u001b[43m \u001b[49m\u001b[38;5;28;43;01mFalse\u001b[39;49;00m\u001b[43m)\u001b[49m\u001b[43m,\u001b[49m\n\u001b[1;32m   1886\u001b[0m \u001b[43m    \u001b[49m\u001b[43mis_text\u001b[49m\u001b[38;5;241;43m=\u001b[39;49m\u001b[43mis_text\u001b[49m\u001b[43m,\u001b[49m\n\u001b[1;32m   1887\u001b[0m \u001b[43m    \u001b[49m\u001b[43merrors\u001b[49m\u001b[38;5;241;43m=\u001b[39;49m\u001b[38;5;28;43mself\u001b[39;49m\u001b[38;5;241;43m.\u001b[39;49m\u001b[43moptions\u001b[49m\u001b[38;5;241;43m.\u001b[39;49m\u001b[43mget\u001b[49m\u001b[43m(\u001b[49m\u001b[38;5;124;43m\"\u001b[39;49m\u001b[38;5;124;43mencoding_errors\u001b[39;49m\u001b[38;5;124;43m\"\u001b[39;49m\u001b[43m,\u001b[49m\u001b[43m \u001b[49m\u001b[38;5;124;43m\"\u001b[39;49m\u001b[38;5;124;43mstrict\u001b[39;49m\u001b[38;5;124;43m\"\u001b[39;49m\u001b[43m)\u001b[49m\u001b[43m,\u001b[49m\n\u001b[1;32m   1888\u001b[0m \u001b[43m    \u001b[49m\u001b[43mstorage_options\u001b[49m\u001b[38;5;241;43m=\u001b[39;49m\u001b[38;5;28;43mself\u001b[39;49m\u001b[38;5;241;43m.\u001b[39;49m\u001b[43moptions\u001b[49m\u001b[38;5;241;43m.\u001b[39;49m\u001b[43mget\u001b[49m\u001b[43m(\u001b[49m\u001b[38;5;124;43m\"\u001b[39;49m\u001b[38;5;124;43mstorage_options\u001b[39;49m\u001b[38;5;124;43m\"\u001b[39;49m\u001b[43m,\u001b[49m\u001b[43m \u001b[49m\u001b[38;5;28;43;01mNone\u001b[39;49;00m\u001b[43m)\u001b[49m\u001b[43m,\u001b[49m\n\u001b[1;32m   1889\u001b[0m \u001b[43m\u001b[49m\u001b[43m)\u001b[49m\n\u001b[1;32m   1890\u001b[0m \u001b[38;5;28;01massert\u001b[39;00m \u001b[38;5;28mself\u001b[39m\u001b[38;5;241m.\u001b[39mhandles \u001b[38;5;129;01mis\u001b[39;00m \u001b[38;5;129;01mnot\u001b[39;00m \u001b[38;5;28;01mNone\u001b[39;00m\n\u001b[1;32m   1891\u001b[0m f \u001b[38;5;241m=\u001b[39m \u001b[38;5;28mself\u001b[39m\u001b[38;5;241m.\u001b[39mhandles\u001b[38;5;241m.\u001b[39mhandle\n",
      "File \u001b[0;32m/Library/Frameworks/Python.framework/Versions/3.12/lib/python3.12/site-packages/pandas/io/common.py:873\u001b[0m, in \u001b[0;36mget_handle\u001b[0;34m(path_or_buf, mode, encoding, compression, memory_map, is_text, errors, storage_options)\u001b[0m\n\u001b[1;32m    868\u001b[0m \u001b[38;5;28;01melif\u001b[39;00m \u001b[38;5;28misinstance\u001b[39m(handle, \u001b[38;5;28mstr\u001b[39m):\n\u001b[1;32m    869\u001b[0m     \u001b[38;5;66;03m# Check whether the filename is to be opened in binary mode.\u001b[39;00m\n\u001b[1;32m    870\u001b[0m     \u001b[38;5;66;03m# Binary mode does not support 'encoding' and 'newline'.\u001b[39;00m\n\u001b[1;32m    871\u001b[0m     \u001b[38;5;28;01mif\u001b[39;00m ioargs\u001b[38;5;241m.\u001b[39mencoding \u001b[38;5;129;01mand\u001b[39;00m \u001b[38;5;124m\"\u001b[39m\u001b[38;5;124mb\u001b[39m\u001b[38;5;124m\"\u001b[39m \u001b[38;5;129;01mnot\u001b[39;00m \u001b[38;5;129;01min\u001b[39;00m ioargs\u001b[38;5;241m.\u001b[39mmode:\n\u001b[1;32m    872\u001b[0m         \u001b[38;5;66;03m# Encoding\u001b[39;00m\n\u001b[0;32m--> 873\u001b[0m         handle \u001b[38;5;241m=\u001b[39m \u001b[38;5;28;43mopen\u001b[39;49m\u001b[43m(\u001b[49m\n\u001b[1;32m    874\u001b[0m \u001b[43m            \u001b[49m\u001b[43mhandle\u001b[49m\u001b[43m,\u001b[49m\n\u001b[1;32m    875\u001b[0m \u001b[43m            \u001b[49m\u001b[43mioargs\u001b[49m\u001b[38;5;241;43m.\u001b[39;49m\u001b[43mmode\u001b[49m\u001b[43m,\u001b[49m\n\u001b[1;32m    876\u001b[0m \u001b[43m            \u001b[49m\u001b[43mencoding\u001b[49m\u001b[38;5;241;43m=\u001b[39;49m\u001b[43mioargs\u001b[49m\u001b[38;5;241;43m.\u001b[39;49m\u001b[43mencoding\u001b[49m\u001b[43m,\u001b[49m\n\u001b[1;32m    877\u001b[0m \u001b[43m            \u001b[49m\u001b[43merrors\u001b[49m\u001b[38;5;241;43m=\u001b[39;49m\u001b[43merrors\u001b[49m\u001b[43m,\u001b[49m\n\u001b[1;32m    878\u001b[0m \u001b[43m            \u001b[49m\u001b[43mnewline\u001b[49m\u001b[38;5;241;43m=\u001b[39;49m\u001b[38;5;124;43m\"\u001b[39;49m\u001b[38;5;124;43m\"\u001b[39;49m\u001b[43m,\u001b[49m\n\u001b[1;32m    879\u001b[0m \u001b[43m        \u001b[49m\u001b[43m)\u001b[49m\n\u001b[1;32m    880\u001b[0m     \u001b[38;5;28;01melse\u001b[39;00m:\n\u001b[1;32m    881\u001b[0m         \u001b[38;5;66;03m# Binary mode\u001b[39;00m\n\u001b[1;32m    882\u001b[0m         handle \u001b[38;5;241m=\u001b[39m \u001b[38;5;28mopen\u001b[39m(handle, ioargs\u001b[38;5;241m.\u001b[39mmode)\n",
      "\u001b[0;31mFileNotFoundError\u001b[0m: [Errno 2] No such file or directory: 'Policy_data.csv'"
     ]
    }
   ],
   "source": [
    "df = pd.read_csv(\"Policy_data.csv\")\n",
    "df.head()"
   ]
  },
  {
   "cell_type": "code",
   "execution_count": null,
   "id": "533e989e-c1e7-451a-98d8-34804f11faaf",
   "metadata": {},
   "outputs": [],
   "source": [
    "df[\"Score\"] = None"
   ]
  },
  {
   "cell_type": "code",
   "execution_count": null,
   "id": "7c96da88-c916-4de0-b6f1-bcf25825968c",
   "metadata": {},
   "outputs": [],
   "source": [
    "for i in df:\n",
    "    print(i)"
   ]
  },
  {
   "cell_type": "code",
   "execution_count": null,
   "id": "3a3a2832-40af-481b-af57-b0adb222a2ec",
   "metadata": {},
   "outputs": [],
   "source": [
    "\"\"\"\n",
    "Scope = Jurisdiction\n",
    "Ambition = End date or high impact\n",
    "Implementation = Start year and end year (if applicable)\n",
    "Innovation = Policy Instrument\n",
    "Public = \n",
    "\"\"\""
   ]
  },
  {
   "cell_type": "code",
   "execution_count": null,
   "id": "c99e4df7-ebd3-4103-af63-16cfdc543615",
   "metadata": {},
   "outputs": [],
   "source": [
    "def Scope(Jurisdiction):\n",
    "    if Jurisdiction == \"Country\":\n",
    "        scope = 5\n",
    "    elif Jurisdiction == \"Subnational region\":\n",
    "        scope = 3\n",
    "    else:\n",
    "        scope = 1\n",
    "    return scope"
   ]
  },
  {
   "cell_type": "code",
   "execution_count": null,
   "id": "7fdf9928-d9ee-4c9d-a7e5-583a2bb505d0",
   "metadata": {},
   "outputs": [],
   "source": [
    "def Ambition(End_date, Impact):\n",
    "    ambition = 0\n",
    "    try:\n",
    "        if int(End_date) <= 2010:\n",
    "            ambition += 1\n",
    "        elif int(End_date) <= 2020:\n",
    "            ambition += 2\n",
    "        else:\n",
    "            ambition += 3\n",
    "    except:\n",
    "        pass\n",
    "    try: \n",
    "        if Impact == \"High\":\n",
    "            ambition += 2\n",
    "    except:\n",
    "        pass\n",
    "    return ambition"
   ]
  },
  {
   "cell_type": "code",
   "execution_count": null,
   "id": "176490df-a186-430d-a561-4d1b073a656a",
   "metadata": {},
   "outputs": [],
   "source": [
    "def Implementation(Start_date, End_date):\n",
    "    implementation = 0\n",
    "    try:\n",
    "        if int(End_date) <= 2010:\n",
    "            ambition += 3\n",
    "        elif int(End_date) <= 2020:\n",
    "            ambition += 2\n",
    "        else:\n",
    "            ambition += 1\n",
    "    except:\n",
    "        pass\n",
    "    if Start_date != \"\":\n",
    "        implementation += 2\n",
    "    return implementation"
   ]
  },
  {
   "cell_type": "code",
   "execution_count": null,
   "id": "afc89f93-8767-4474-a79d-db198eec0777",
   "metadata": {},
   "outputs": [],
   "source": [
    "def Innovation(Instrument):\n",
    "    one = [\n",
    "        'Building codes and standards',\n",
    "        'Information provision',\n",
    "        'Policy support, Strategic planning',\n",
    "        'Regulatory Instruments',\n",
    "        'Funds to sub-national governments',\n",
    "        'Endorsement label',\n",
    "        'Comparison label',\n",
    "        'Climate strategy, Political & non-binding climate strategy',\n",
    "        'Economic instruments, Fiscal or financial incentives, Grants and subsidies, Loans',\n",
    "        'Grants and subsidies, Codes and standards, Other mandatory requirements',\n",
    "        'Policy support, Strategic planning, Target',\n",
    "        'Grants and subsidies',\n",
    "        'Policy support, Information and education',\n",
    "        'Policy support, Strategic planning',\n",
    "        'Target',\n",
    "        'Grants and subsidies, Loans, Direct investment'\n",
    "    ]\n",
    "    \n",
    "    two = [\n",
    "        'Fiscal or financial incentives',\n",
    "        'CO2 taxes',\n",
    "        'Infrastructure investments',\n",
    "        'Fiscal or financial incentives, CO2 taxes',\n",
    "        'Economic instruments, Direct investment',\n",
    "        'Direct investment, RD&D funding, Policy support, Strategic planning',\n",
    "        'Infrastructure investments, Fiscal or financial incentives, Technology development',\n",
    "        'Infrastructure investments, Grants and subsidies',\n",
    "        'Economic instruments, Advice or aid in implementation, Information provision, Grants and subsidies',\n",
    "        'Economic instruments, CO2 taxes, Energy and other taxes',\n",
    "        'Feed-in tariffs or premiums',\n",
    "        'Economic instruments, Direct investment, Funds to sub-national governments',\n",
    "        'Loans',\n",
    "        'Grants and subsidies, Loans, Direct investment'\n",
    "    ]\n",
    "    \n",
    "    three = [\n",
    "        'Market-based instruments, GHG emission reduction crediting and offsetting mechanism, GHG emissions allowances',\n",
    "        'Technology development',\n",
    "        'Feed-in tariffs or premiums',\n",
    "        'Market-based instruments, GHG emissions allowances',\n",
    "        'Policy support, Institutional creation, Research & Development and Deployment (RD&D), Negotiated agreements (public-private sector)',\n",
    "        'Research & Development and Deployment (RD&D)',\n",
    "        'Strategic planning, Policy support',\n",
    "        'Policy support, Strategic planning, Target, Renewable energy target, Political & non-binding renewable energy target',\n",
    "        'Coordinating body for climate strategy, Formal & legally binding climate strategy, Policy support, Other mandatory requirements, Target, GHG reduction target, Formal & legally binding GHG reduction target',\n",
    "        'GHG emissions allowances, Monitoring, Other mandatory requirements',\n",
    "        'Regulatory Instruments, Monitoring',\n",
    "        'Information provision, Information and education, Grants and subsidies',\n",
    "        'Policy support, Strategic planning, Regulatory Instruments, Codes and standards, Sectoral standards, Monitoring',\n",
    "        'Climate strategy, Policy support, Strategic planning, GHG reduction target',\n",
    "        'Policy support, Institutional creation, Research & Development and Deployment (RD&D), Negotiated agreements (public-private sector)'\n",
    "    ]\n",
    "    \n",
    "    four = [\n",
    "        'White certificates, Obligation schemes',\n",
    "        'Strategic planning, Formal & legally binding energy efficiency target',\n",
    "        'Voluntary approaches, Performance label',\n",
    "        'Negotiated agreements (public-private sector)',\n",
    "        'Obligation schemes, Renewable energy target',\n",
    "        'Regulatory Instruments, Target',\n",
    "        'Strategic planning, GHG reduction target',\n",
    "        'Strategic planning, Direct investment',\n",
    "        'Direct investment, Infrastructure investments, Fiscal or financial incentives, Policy support, Institutional creation, Regulatory Instruments',\n",
    "        'Grants and subsidies, Information provision'\n",
    "    ]\n",
    "    \n",
    "    five = [\n",
    "        'Demonstration project',\n",
    "        'Technology deployment and diffusion',\n",
    "        'Green certificates, Product standards, Other mandatory requirements, Target, Renewable energy target, Formal & legally binding renewable energy target',\n",
    "        'Economic instruments, Market-based instruments, GHG emissions allowances',\n",
    "        'GHG emission reduction crediting and offsetting mechanism, Information provision, Policy support',\n",
    "        'Infrastructure investments, Procurement rules, Grants and subsidies, Loans, Advice or aid in implementation, Information provision, Policy support, Strategic planning, Research & Development and Deployment (RD&D), Demonstration project, Technology deployment and diffusion, Technology development',\n",
    "        'GHG reduction target, Formal & legally binding GHG reduction target'\n",
    "    ]\n",
    "    if Instrument in one:\n",
    "        Innovation = 1\n",
    "    elif Instrument in two:\n",
    "        Innovation = 2\n",
    "    elif Instrument in three:\n",
    "        Innovation = 3\n",
    "    elif Instrument in four:\n",
    "        Innovation = 4\n",
    "    else:\n",
    "        Innovation = 5\n",
    "    return Innovation"
   ]
  },
  {
   "cell_type": "code",
   "execution_count": null,
   "id": "6bcb3dc1-c1c4-4df2-b1cb-50cf66edccc6",
   "metadata": {},
   "outputs": [],
   "source": [
    "def Public():\n",
    "    #placeholder function\n",
    "    public = 3\n",
    "    return public"
   ]
  },
  {
   "cell_type": "code",
   "execution_count": null,
   "id": "dcbb62dc-b214-4dda-b317-867768dac436",
   "metadata": {},
   "outputs": [],
   "source": [
    "W_scope = 0.2\n",
    "W_ambition = 0.3\n",
    "W_implementation = 0.2\n",
    "W_innovation = 0.15\n",
    "W_public = 0.15"
   ]
  },
  {
   "cell_type": "code",
   "execution_count": null,
   "id": "76a4dc8b-d75e-4dfb-acf5-16c4af6ff665",
   "metadata": {},
   "outputs": [],
   "source": [
    "Scores = []\n",
    "for i in range(len(df)):\n",
    "    Scores.append((Scope(df[\"jurisdiction\"][i]) * W_scope) + (Ambition(df[\"end_date\"][i], df[\"high_impact\"][i]) * W_ambition) + (Implementation(df[\"start_date\"][i], df[\"end_date\"][i]) * W_implementation) + (Innovation(df[\"policy_instrument\"][i]) * W_innovation) + (Public() * W_public))"
   ]
  },
  {
   "cell_type": "code",
   "execution_count": null,
   "id": "49f74b2e-f906-493f-ba8b-67a546ab2aea",
   "metadata": {},
   "outputs": [],
   "source": [
    "df[\"Score\"] = Scores"
   ]
  },
  {
   "cell_type": "code",
   "execution_count": null,
   "id": "bba27422-9da6-4640-a696-a8a137e46999",
   "metadata": {},
   "outputs": [],
   "source": [
    "df.head()"
   ]
  },
  {
   "cell_type": "code",
   "execution_count": null,
   "id": "c29e0ffc-3696-478b-a76c-e8d9715c1c4b",
   "metadata": {},
   "outputs": [],
   "source": []
  },
  {
   "cell_type": "code",
   "execution_count": null,
   "id": "314d9f66-3347-4fd1-a6f4-5ab5cf73544d",
   "metadata": {},
   "outputs": [],
   "source": [
    "df = pd.read_csv(\"Policy_data.csv\")\n",
    "df.head()"
   ]
  },
  {
   "cell_type": "code",
   "execution_count": null,
   "id": "2de23599-15bd-4bb0-96aa-6f1d6bba5f42",
   "metadata": {
    "editable": true,
    "slideshow": {
     "slide_type": ""
    },
    "tags": []
   },
   "outputs": [],
   "source": [
    "df = df.drop(columns = [\"policy_id\", \"country_iso\", \"country_update\", \"country\", \"policy_city_or_local\", \"stringency\", \"reference\", \"impact_indicators.comments\", \"impact_indicators.name\", \"impact_indicators.value\", \"impact_indicators.base_year\", \"impact_indicators.target_year\"])"
   ]
  },
  {
   "cell_type": "code",
   "execution_count": null,
   "id": "ba07dc77-66df-4242-b752-72c6ad88257a",
   "metadata": {},
   "outputs": [],
   "source": [
    "df.head()"
   ]
  },
  {
   "cell_type": "code",
   "execution_count": null,
   "id": "12202b60-f0f6-4030-b072-761e6d9aa4ad",
   "metadata": {},
   "outputs": [],
   "source": [
    "df.to_csv(\"Policy Scores.csv\")"
   ]
  },
  {
   "cell_type": "code",
   "execution_count": null,
   "id": "6d9ea96f-a252-4125-b171-32a16d189e65",
   "metadata": {},
   "outputs": [],
   "source": []
  }
 ],
 "metadata": {
  "kernelspec": {
   "display_name": "Python 3 (ipykernel)",
   "language": "python",
   "name": "python3"
  },
  "language_info": {
   "codemirror_mode": {
    "name": "ipython",
    "version": 3
   },
   "file_extension": ".py",
   "mimetype": "text/x-python",
   "name": "python",
   "nbconvert_exporter": "python",
   "pygments_lexer": "ipython3",
   "version": "3.12.5"
  }
 },
 "nbformat": 4,
 "nbformat_minor": 5
}
